{
 "cells": [
  {
   "cell_type": "markdown",
   "id": "ea2d42e7",
   "metadata": {
    "id": "ea2d42e7"
   },
   "source": [
    "### 1) Data Wrangling, II\n",
    "Create an “Academic performance” dataset of students and perform the following operations using\n",
    "Python.\n",
    "1. Scan all variables for missing values and inconsistencies. If there are missing values and/or\n",
    "inconsistencies, use any of the suitable techniques to deal with them.\n",
    "2. Scan all numeric variables for outliers. If there are outliers, use any of the suitable techniques\n",
    "to deal with them.\n",
    "3. Apply data transformations on at least one of the variables. The purpose of this\n",
    "transformation should be one of the following reasons: to change the scale for better\n",
    "understanding of the variable, to convert a non-linear relation into a linear one, or to decrease\n",
    "the skewness and convert the distribution into a normal distribution"
   ]
  },
  {
   "cell_type": "markdown",
   "id": "1120d396",
   "metadata": {
    "id": "1120d396"
   },
   "source": [
    "## Importing Libraries"
   ]
  },
  {
   "cell_type": "code",
   "execution_count": 30,
   "id": "188fa9ed",
   "metadata": {
    "id": "188fa9ed"
   },
   "outputs": [],
   "source": [
    "import numpy as np\n",
    "import pandas as pd\n",
    "import matplotlib.pyplot as plt\n",
    "import seaborn as sns\n",
    "from scipy import stats\n",
    "from sklearn.preprocessing import Normalizer\n",
    "from sklearn.preprocessing import StandardScaler\n",
    "warnings.filterwarnings('ignore')"
   ]
  },
  {
   "cell_type": "markdown",
   "id": "54e5d670",
   "metadata": {
    "id": "54e5d670"
   },
   "source": [
    "## Creating a function to fill future marks for a student using his previous record\n"
   ]
  },
  {
   "cell_type": "code",
   "execution_count": 5,
   "id": "9e367f77",
   "metadata": {
    "id": "9e367f77"
   },
   "outputs": [],
   "source": [
    "def predict_marks(test,test_total,next_test_total):\n",
    "    result = []\n",
    "    # limit for the noise to be added to the predicted marks\n",
    "    limits = ((next_test_total*10)/100)\n",
    "    for i in range(len(test)):\n",
    "        noise = np.random.randint(-limits,limits)\n",
    "        predicted = int((test[i]*next_test_total)/test_total) + noise\n",
    "        result.append(predicted)\n",
    "    result = np.array(result)\n",
    "    return result"
   ]
  },
  {
   "cell_type": "code",
   "execution_count": 6,
   "id": "539d936a",
   "metadata": {
    "id": "539d936a"
   },
   "outputs": [],
   "source": [
    "no = 75\n",
    "Students = {'Roll No':np.arange(1,no+1),\n",
    "            'Unit Test-I':np.random.randint(low=5,high=20,size=no)}"
   ]
  },
  {
   "cell_type": "code",
   "execution_count": 7,
   "id": "1a6d2da7",
   "metadata": {
    "id": "1a6d2da7"
   },
   "outputs": [],
   "source": [
    "Students['Insemester'] = predict_marks(Students['Unit Test-I'],20,30)\n",
    "Students['Unit Test-II'] = predict_marks(Students['Insemester'],30,20)\n",
    "Students['Endsemester'] = predict_marks(Students['Unit Test-II'],20,70)"
   ]
  },
  {
   "cell_type": "markdown",
   "id": "71203765",
   "metadata": {
    "id": "71203765"
   },
   "source": [
    "## Loading the dataset into the DataFrame\n"
   ]
  },
  {
   "cell_type": "code",
   "execution_count": 8,
   "id": "48767e61",
   "metadata": {
    "colab": {
     "base_uri": "https://localhost:8080/",
     "height": 424
    },
    "executionInfo": {
     "elapsed": 6,
     "status": "ok",
     "timestamp": 1706080704371,
     "user": {
      "displayName": "HARSHAL TAK",
      "userId": "01592715296350863863"
     },
     "user_tz": -330
    },
    "id": "48767e61",
    "outputId": "a4b2712c-92d8-4a3f-aa9d-36ae59878530"
   },
   "outputs": [
    {
     "data": {
      "text/html": [
       "<div>\n",
       "<style scoped>\n",
       "    .dataframe tbody tr th:only-of-type {\n",
       "        vertical-align: middle;\n",
       "    }\n",
       "\n",
       "    .dataframe tbody tr th {\n",
       "        vertical-align: top;\n",
       "    }\n",
       "\n",
       "    .dataframe thead th {\n",
       "        text-align: right;\n",
       "    }\n",
       "</style>\n",
       "<table border=\"1\" class=\"dataframe\">\n",
       "  <thead>\n",
       "    <tr style=\"text-align: right;\">\n",
       "      <th></th>\n",
       "      <th>Roll No</th>\n",
       "      <th>Unit Test-I</th>\n",
       "      <th>Insemester</th>\n",
       "      <th>Unit Test-II</th>\n",
       "      <th>Endsemester</th>\n",
       "    </tr>\n",
       "  </thead>\n",
       "  <tbody>\n",
       "    <tr>\n",
       "      <th>0</th>\n",
       "      <td>1</td>\n",
       "      <td>12</td>\n",
       "      <td>19</td>\n",
       "      <td>13</td>\n",
       "      <td>40</td>\n",
       "    </tr>\n",
       "    <tr>\n",
       "      <th>1</th>\n",
       "      <td>2</td>\n",
       "      <td>19</td>\n",
       "      <td>25</td>\n",
       "      <td>15</td>\n",
       "      <td>58</td>\n",
       "    </tr>\n",
       "    <tr>\n",
       "      <th>2</th>\n",
       "      <td>3</td>\n",
       "      <td>10</td>\n",
       "      <td>16</td>\n",
       "      <td>11</td>\n",
       "      <td>39</td>\n",
       "    </tr>\n",
       "    <tr>\n",
       "      <th>3</th>\n",
       "      <td>4</td>\n",
       "      <td>15</td>\n",
       "      <td>24</td>\n",
       "      <td>17</td>\n",
       "      <td>62</td>\n",
       "    </tr>\n",
       "    <tr>\n",
       "      <th>4</th>\n",
       "      <td>5</td>\n",
       "      <td>16</td>\n",
       "      <td>25</td>\n",
       "      <td>16</td>\n",
       "      <td>54</td>\n",
       "    </tr>\n",
       "    <tr>\n",
       "      <th>...</th>\n",
       "      <td>...</td>\n",
       "      <td>...</td>\n",
       "      <td>...</td>\n",
       "      <td>...</td>\n",
       "      <td>...</td>\n",
       "    </tr>\n",
       "    <tr>\n",
       "      <th>70</th>\n",
       "      <td>71</td>\n",
       "      <td>5</td>\n",
       "      <td>8</td>\n",
       "      <td>6</td>\n",
       "      <td>18</td>\n",
       "    </tr>\n",
       "    <tr>\n",
       "      <th>71</th>\n",
       "      <td>72</td>\n",
       "      <td>16</td>\n",
       "      <td>22</td>\n",
       "      <td>14</td>\n",
       "      <td>52</td>\n",
       "    </tr>\n",
       "    <tr>\n",
       "      <th>72</th>\n",
       "      <td>73</td>\n",
       "      <td>12</td>\n",
       "      <td>15</td>\n",
       "      <td>10</td>\n",
       "      <td>28</td>\n",
       "    </tr>\n",
       "    <tr>\n",
       "      <th>73</th>\n",
       "      <td>74</td>\n",
       "      <td>9</td>\n",
       "      <td>14</td>\n",
       "      <td>9</td>\n",
       "      <td>36</td>\n",
       "    </tr>\n",
       "    <tr>\n",
       "      <th>74</th>\n",
       "      <td>75</td>\n",
       "      <td>11</td>\n",
       "      <td>16</td>\n",
       "      <td>11</td>\n",
       "      <td>38</td>\n",
       "    </tr>\n",
       "  </tbody>\n",
       "</table>\n",
       "<p>75 rows × 5 columns</p>\n",
       "</div>"
      ],
      "text/plain": [
       "    Roll No  Unit Test-I  Insemester  Unit Test-II  Endsemester\n",
       "0         1           12          19            13           40\n",
       "1         2           19          25            15           58\n",
       "2         3           10          16            11           39\n",
       "3         4           15          24            17           62\n",
       "4         5           16          25            16           54\n",
       "..      ...          ...         ...           ...          ...\n",
       "70       71            5           8             6           18\n",
       "71       72           16          22            14           52\n",
       "72       73           12          15            10           28\n",
       "73       74            9          14             9           36\n",
       "74       75           11          16            11           38\n",
       "\n",
       "[75 rows x 5 columns]"
      ]
     },
     "execution_count": 8,
     "metadata": {},
     "output_type": "execute_result"
    }
   ],
   "source": [
    "df = pd.DataFrame(Students)\n",
    "df"
   ]
  },
  {
   "cell_type": "code",
   "execution_count": 9,
   "id": "5c2b43f4",
   "metadata": {
    "colab": {
     "base_uri": "https://localhost:8080/",
     "height": 363
    },
    "executionInfo": {
     "elapsed": 7,
     "status": "ok",
     "timestamp": 1706080707526,
     "user": {
      "displayName": "HARSHAL TAK",
      "userId": "01592715296350863863"
     },
     "user_tz": -330
    },
    "id": "5c2b43f4",
    "outputId": "4ba0683e-299b-41da-93ad-c10d5971876b"
   },
   "outputs": [
    {
     "data": {
      "text/html": [
       "<div>\n",
       "<style scoped>\n",
       "    .dataframe tbody tr th:only-of-type {\n",
       "        vertical-align: middle;\n",
       "    }\n",
       "\n",
       "    .dataframe tbody tr th {\n",
       "        vertical-align: top;\n",
       "    }\n",
       "\n",
       "    .dataframe thead th {\n",
       "        text-align: right;\n",
       "    }\n",
       "</style>\n",
       "<table border=\"1\" class=\"dataframe\">\n",
       "  <thead>\n",
       "    <tr style=\"text-align: right;\">\n",
       "      <th></th>\n",
       "      <th>Roll No</th>\n",
       "      <th>Unit Test-I</th>\n",
       "      <th>Insemester</th>\n",
       "      <th>Unit Test-II</th>\n",
       "      <th>Endsemester</th>\n",
       "    </tr>\n",
       "  </thead>\n",
       "  <tbody>\n",
       "    <tr>\n",
       "      <th>22</th>\n",
       "      <td>23</td>\n",
       "      <td>19</td>\n",
       "      <td>30</td>\n",
       "      <td>21</td>\n",
       "      <td>79</td>\n",
       "    </tr>\n",
       "    <tr>\n",
       "      <th>53</th>\n",
       "      <td>54</td>\n",
       "      <td>19</td>\n",
       "      <td>30</td>\n",
       "      <td>21</td>\n",
       "      <td>78</td>\n",
       "    </tr>\n",
       "    <tr>\n",
       "      <th>52</th>\n",
       "      <td>53</td>\n",
       "      <td>18</td>\n",
       "      <td>27</td>\n",
       "      <td>18</td>\n",
       "      <td>68</td>\n",
       "    </tr>\n",
       "    <tr>\n",
       "      <th>64</th>\n",
       "      <td>65</td>\n",
       "      <td>18</td>\n",
       "      <td>27</td>\n",
       "      <td>18</td>\n",
       "      <td>65</td>\n",
       "    </tr>\n",
       "    <tr>\n",
       "      <th>3</th>\n",
       "      <td>4</td>\n",
       "      <td>15</td>\n",
       "      <td>24</td>\n",
       "      <td>17</td>\n",
       "      <td>62</td>\n",
       "    </tr>\n",
       "    <tr>\n",
       "      <th>31</th>\n",
       "      <td>32</td>\n",
       "      <td>16</td>\n",
       "      <td>26</td>\n",
       "      <td>16</td>\n",
       "      <td>61</td>\n",
       "    </tr>\n",
       "    <tr>\n",
       "      <th>8</th>\n",
       "      <td>9</td>\n",
       "      <td>17</td>\n",
       "      <td>27</td>\n",
       "      <td>18</td>\n",
       "      <td>61</td>\n",
       "    </tr>\n",
       "    <tr>\n",
       "      <th>23</th>\n",
       "      <td>24</td>\n",
       "      <td>19</td>\n",
       "      <td>26</td>\n",
       "      <td>16</td>\n",
       "      <td>60</td>\n",
       "    </tr>\n",
       "    <tr>\n",
       "      <th>9</th>\n",
       "      <td>10</td>\n",
       "      <td>19</td>\n",
       "      <td>27</td>\n",
       "      <td>16</td>\n",
       "      <td>60</td>\n",
       "    </tr>\n",
       "    <tr>\n",
       "      <th>18</th>\n",
       "      <td>19</td>\n",
       "      <td>18</td>\n",
       "      <td>27</td>\n",
       "      <td>19</td>\n",
       "      <td>60</td>\n",
       "    </tr>\n",
       "  </tbody>\n",
       "</table>\n",
       "</div>"
      ],
      "text/plain": [
       "    Roll No  Unit Test-I  Insemester  Unit Test-II  Endsemester\n",
       "22       23           19          30            21           79\n",
       "53       54           19          30            21           78\n",
       "52       53           18          27            18           68\n",
       "64       65           18          27            18           65\n",
       "3         4           15          24            17           62\n",
       "31       32           16          26            16           61\n",
       "8         9           17          27            18           61\n",
       "23       24           19          26            16           60\n",
       "9        10           19          27            16           60\n",
       "18       19           18          27            19           60"
      ]
     },
     "execution_count": 9,
     "metadata": {},
     "output_type": "execute_result"
    }
   ],
   "source": [
    "# Sorting in descending\n",
    "df.sort_values(by=['Endsemester'],ascending=False)[0:10]"
   ]
  },
  {
   "cell_type": "markdown",
   "id": "d5a6bf7f",
   "metadata": {
    "id": "d5a6bf7f"
   },
   "source": [
    "## Handling outliers"
   ]
  },
  {
   "cell_type": "code",
   "execution_count": 10,
   "id": "ff9bcecd",
   "metadata": {
    "id": "ff9bcecd"
   },
   "outputs": [],
   "source": [
    "outlier1 = [34,23]\n",
    "outlier2 = [35,71]\n",
    "for i in range(len(outlier1)):\n",
    "    df.loc[df['Roll No']==outlier1[i],['Insemester','Endsemester']] = [-50,-95]"
   ]
  },
  {
   "cell_type": "code",
   "execution_count": 11,
   "id": "de580fd9",
   "metadata": {
    "id": "de580fd9"
   },
   "outputs": [],
   "source": [
    "for i in range(len(outlier2)):\n",
    "    df.loc[df['Roll No']==outlier2[i],['Insemester','Endsemester']] = [50,95]"
   ]
  },
  {
   "cell_type": "code",
   "execution_count": 12,
   "id": "a49b2e31",
   "metadata": {
    "colab": {
     "base_uri": "https://localhost:8080/",
     "height": 424
    },
    "executionInfo": {
     "elapsed": 4,
     "status": "ok",
     "timestamp": 1706080715281,
     "user": {
      "displayName": "HARSHAL TAK",
      "userId": "01592715296350863863"
     },
     "user_tz": -330
    },
    "id": "a49b2e31",
    "outputId": "42ed6c8c-15a4-4fac-f2d9-a6a9ce6dd1d1"
   },
   "outputs": [
    {
     "data": {
      "text/html": [
       "<div>\n",
       "<style scoped>\n",
       "    .dataframe tbody tr th:only-of-type {\n",
       "        vertical-align: middle;\n",
       "    }\n",
       "\n",
       "    .dataframe tbody tr th {\n",
       "        vertical-align: top;\n",
       "    }\n",
       "\n",
       "    .dataframe thead th {\n",
       "        text-align: right;\n",
       "    }\n",
       "</style>\n",
       "<table border=\"1\" class=\"dataframe\">\n",
       "  <thead>\n",
       "    <tr style=\"text-align: right;\">\n",
       "      <th></th>\n",
       "      <th>Roll No</th>\n",
       "      <th>Unit Test-I</th>\n",
       "      <th>Insemester</th>\n",
       "      <th>Unit Test-II</th>\n",
       "      <th>Endsemester</th>\n",
       "      <th>Total</th>\n",
       "    </tr>\n",
       "  </thead>\n",
       "  <tbody>\n",
       "    <tr>\n",
       "      <th>0</th>\n",
       "      <td>1</td>\n",
       "      <td>12</td>\n",
       "      <td>19</td>\n",
       "      <td>13</td>\n",
       "      <td>40</td>\n",
       "      <td>59</td>\n",
       "    </tr>\n",
       "    <tr>\n",
       "      <th>1</th>\n",
       "      <td>2</td>\n",
       "      <td>19</td>\n",
       "      <td>25</td>\n",
       "      <td>15</td>\n",
       "      <td>58</td>\n",
       "      <td>83</td>\n",
       "    </tr>\n",
       "    <tr>\n",
       "      <th>2</th>\n",
       "      <td>3</td>\n",
       "      <td>10</td>\n",
       "      <td>16</td>\n",
       "      <td>11</td>\n",
       "      <td>39</td>\n",
       "      <td>55</td>\n",
       "    </tr>\n",
       "    <tr>\n",
       "      <th>3</th>\n",
       "      <td>4</td>\n",
       "      <td>15</td>\n",
       "      <td>24</td>\n",
       "      <td>17</td>\n",
       "      <td>62</td>\n",
       "      <td>86</td>\n",
       "    </tr>\n",
       "    <tr>\n",
       "      <th>4</th>\n",
       "      <td>5</td>\n",
       "      <td>16</td>\n",
       "      <td>25</td>\n",
       "      <td>16</td>\n",
       "      <td>54</td>\n",
       "      <td>79</td>\n",
       "    </tr>\n",
       "    <tr>\n",
       "      <th>...</th>\n",
       "      <td>...</td>\n",
       "      <td>...</td>\n",
       "      <td>...</td>\n",
       "      <td>...</td>\n",
       "      <td>...</td>\n",
       "      <td>...</td>\n",
       "    </tr>\n",
       "    <tr>\n",
       "      <th>70</th>\n",
       "      <td>71</td>\n",
       "      <td>5</td>\n",
       "      <td>50</td>\n",
       "      <td>6</td>\n",
       "      <td>95</td>\n",
       "      <td>145</td>\n",
       "    </tr>\n",
       "    <tr>\n",
       "      <th>71</th>\n",
       "      <td>72</td>\n",
       "      <td>16</td>\n",
       "      <td>22</td>\n",
       "      <td>14</td>\n",
       "      <td>52</td>\n",
       "      <td>74</td>\n",
       "    </tr>\n",
       "    <tr>\n",
       "      <th>72</th>\n",
       "      <td>73</td>\n",
       "      <td>12</td>\n",
       "      <td>15</td>\n",
       "      <td>10</td>\n",
       "      <td>28</td>\n",
       "      <td>43</td>\n",
       "    </tr>\n",
       "    <tr>\n",
       "      <th>73</th>\n",
       "      <td>74</td>\n",
       "      <td>9</td>\n",
       "      <td>14</td>\n",
       "      <td>9</td>\n",
       "      <td>36</td>\n",
       "      <td>50</td>\n",
       "    </tr>\n",
       "    <tr>\n",
       "      <th>74</th>\n",
       "      <td>75</td>\n",
       "      <td>11</td>\n",
       "      <td>16</td>\n",
       "      <td>11</td>\n",
       "      <td>38</td>\n",
       "      <td>54</td>\n",
       "    </tr>\n",
       "  </tbody>\n",
       "</table>\n",
       "<p>75 rows × 6 columns</p>\n",
       "</div>"
      ],
      "text/plain": [
       "    Roll No  Unit Test-I  Insemester  Unit Test-II  Endsemester  Total\n",
       "0         1           12          19            13           40     59\n",
       "1         2           19          25            15           58     83\n",
       "2         3           10          16            11           39     55\n",
       "3         4           15          24            17           62     86\n",
       "4         5           16          25            16           54     79\n",
       "..      ...          ...         ...           ...          ...    ...\n",
       "70       71            5          50             6           95    145\n",
       "71       72           16          22            14           52     74\n",
       "72       73           12          15            10           28     43\n",
       "73       74            9          14             9           36     50\n",
       "74       75           11          16            11           38     54\n",
       "\n",
       "[75 rows x 6 columns]"
      ]
     },
     "execution_count": 12,
     "metadata": {},
     "output_type": "execute_result"
    }
   ],
   "source": [
    "df['Total'] = df['Endsemester']+df['Insemester']\n",
    "df"
   ]
  },
  {
   "cell_type": "code",
   "execution_count": 13,
   "id": "eccc4121",
   "metadata": {
    "colab": {
     "base_uri": "https://localhost:8080/",
     "height": 449
    },
    "executionInfo": {
     "elapsed": 652,
     "status": "ok",
     "timestamp": 1706080719242,
     "user": {
      "displayName": "HARSHAL TAK",
      "userId": "01592715296350863863"
     },
     "user_tz": -330
    },
    "id": "eccc4121",
    "outputId": "227beb2c-fd19-4c01-d2ef-ac22b81a8350"
   },
   "outputs": [
    {
     "data": {
      "image/png": "[encoded data removed]",
      "text/plain": [
       "<Figure size 640x480 with 1 Axes>"
      ]
     },
     "metadata": {},
     "output_type": "display_data"
    }
   ],
   "source": [
    "# Visualizing outliers\n",
    "sns.boxplot(df['Total'],orient='h',showfliers=True)\n",
    "plt.show()"
   ]
  },
  {
   "cell_type": "code",
   "execution_count": 14,
   "id": "a92bfef7",
   "metadata": {
    "colab": {
     "base_uri": "https://localhost:8080/"
    },
    "executionInfo": {
     "elapsed": 555,
     "status": "ok",
     "timestamp": 1706080722571,
     "user": {
      "displayName": "HARSHAL TAK",
      "userId": "01592715296350863863"
     },
     "user_tz": -330
    },
    "id": "a92bfef7",
    "outputId": "fdb2e24e-0cdc-44b1-ab9b-05d407c500be"
   },
   "outputs": [
    {
     "data": {
      "text/plain": [
       "(75, 6)"
      ]
     },
     "execution_count": 14,
     "metadata": {},
     "output_type": "execute_result"
    }
   ],
   "source": [
    "# Original shape\n",
    "df.shape"
   ]
  },
  {
   "cell_type": "code",
   "execution_count": 15,
   "id": "908ce52b",
   "metadata": {
    "id": "908ce52b"
   },
   "outputs": [],
   "source": [
    "Q1 = df['Total'].quantile(0.25)\n",
    "Q3 = df['Total'].quantile(0.75)\n",
    "IQR = Q3-Q1"
   ]
  },
  {
   "cell_type": "code",
   "execution_count": 16,
   "id": "1fad57c2",
   "metadata": {
    "colab": {
     "base_uri": "https://localhost:8080/"
    },
    "executionInfo": {
     "elapsed": 382,
     "status": "ok",
     "timestamp": 1706080726804,
     "user": {
      "displayName": "HARSHAL TAK",
      "userId": "01592715296350863863"
     },
     "user_tz": -330
    },
    "id": "1fad57c2",
    "outputId": "984acbe4-3528-465f-df72-12afff4ece07"
   },
   "outputs": [
    {
     "name": "stdout",
     "output_type": "stream",
     "text": [
      "[34 70]\n",
      "[22 33]\n"
     ]
    }
   ],
   "source": [
    "lower = Q1 - 1.5*IQR\n",
    "upper = Q3 + 1.5*IQR\n",
    "upper_array = np.where(df['Total']>=upper)[0]\n",
    "lower_array = np.where(df['Total']<=lower)[0]\n",
    "#upper_array = np.delete(upper_array,1) # Exceptional student\n",
    "print(upper_array)\n",
    "print(lower_array)"
   ]
  },
  {
   "cell_type": "code",
   "execution_count": 17,
   "id": "920a9291",
   "metadata": {
    "colab": {
     "base_uri": "https://localhost:8080/"
    },
    "executionInfo": {
     "elapsed": 359,
     "status": "ok",
     "timestamp": 1706080728931,
     "user": {
      "displayName": "HARSHAL TAK",
      "userId": "01592715296350863863"
     },
     "user_tz": -330
    },
    "id": "920a9291",
    "outputId": "03990fd9-6f9e-461f-f718-5e8218e8e2cb"
   },
   "outputs": [
    {
     "name": "stdout",
     "output_type": "stream",
     "text": [
      "Deleted ouliers!\n"
     ]
    }
   ],
   "source": [
    "# Dropping outliers\n",
    "df.drop(index=upper_array,inplace=True)\n",
    "df.drop(index=lower_array,inplace=True)\n",
    "print(\"Deleted ouliers!\")"
   ]
  },
  {
   "cell_type": "code",
   "execution_count": 18,
   "id": "1684f888",
   "metadata": {
    "colab": {
     "base_uri": "https://localhost:8080/",
     "height": 411
    },
    "executionInfo": {
     "elapsed": 941,
     "status": "ok",
     "timestamp": 1706080732628,
     "user": {
      "displayName": "HARSHAL TAK",
      "userId": "01592715296350863863"
     },
     "user_tz": -330
    },
    "id": "1684f888",
    "outputId": "b35bdd0e-8418-453b-b605-8c224ac7e10f"
   },
   "outputs": [
    {
     "data": {
      "image/png": "[encoded data removed]",
      "text/plain": [
       "<Figure size 640x480 with 1 Axes>"
      ]
     },
     "metadata": {},
     "output_type": "display_data"
    }
   ],
   "source": [
    "sns.boxplot(df['Total'])\n",
    "plt.show()"
   ]
  },
  {
   "cell_type": "code",
   "execution_count": 19,
   "id": "bf4c54b5",
   "metadata": {
    "colab": {
     "base_uri": "https://localhost:8080/",
     "height": 424
    },
    "executionInfo": {
     "elapsed": 370,
     "status": "ok",
     "timestamp": 1706080745264,
     "user": {
      "displayName": "HARSHAL TAK",
      "userId": "01592715296350863863"
     },
     "user_tz": -330
    },
    "id": "bf4c54b5",
    "outputId": "df0624f4-32a1-471d-9037-40b24786ca5c"
   },
   "outputs": [
    {
     "data": {
      "text/html": [
       "<div>\n",
       "<style scoped>\n",
       "    .dataframe tbody tr th:only-of-type {\n",
       "        vertical-align: middle;\n",
       "    }\n",
       "\n",
       "    .dataframe tbody tr th {\n",
       "        vertical-align: top;\n",
       "    }\n",
       "\n",
       "    .dataframe thead th {\n",
       "        text-align: right;\n",
       "    }\n",
       "</style>\n",
       "<table border=\"1\" class=\"dataframe\">\n",
       "  <thead>\n",
       "    <tr style=\"text-align: right;\">\n",
       "      <th></th>\n",
       "      <th>Roll No</th>\n",
       "      <th>Unit Test-I</th>\n",
       "      <th>Insemester</th>\n",
       "      <th>Unit Test-II</th>\n",
       "      <th>Endsemester</th>\n",
       "      <th>Total</th>\n",
       "      <th>Unit Test Total</th>\n",
       "    </tr>\n",
       "  </thead>\n",
       "  <tbody>\n",
       "    <tr>\n",
       "      <th>0</th>\n",
       "      <td>1</td>\n",
       "      <td>12</td>\n",
       "      <td>19</td>\n",
       "      <td>13</td>\n",
       "      <td>40</td>\n",
       "      <td>59</td>\n",
       "      <td>25</td>\n",
       "    </tr>\n",
       "    <tr>\n",
       "      <th>1</th>\n",
       "      <td>2</td>\n",
       "      <td>19</td>\n",
       "      <td>25</td>\n",
       "      <td>15</td>\n",
       "      <td>58</td>\n",
       "      <td>83</td>\n",
       "      <td>34</td>\n",
       "    </tr>\n",
       "    <tr>\n",
       "      <th>2</th>\n",
       "      <td>3</td>\n",
       "      <td>10</td>\n",
       "      <td>16</td>\n",
       "      <td>11</td>\n",
       "      <td>39</td>\n",
       "      <td>55</td>\n",
       "      <td>21</td>\n",
       "    </tr>\n",
       "    <tr>\n",
       "      <th>3</th>\n",
       "      <td>4</td>\n",
       "      <td>15</td>\n",
       "      <td>24</td>\n",
       "      <td>17</td>\n",
       "      <td>62</td>\n",
       "      <td>86</td>\n",
       "      <td>32</td>\n",
       "    </tr>\n",
       "    <tr>\n",
       "      <th>4</th>\n",
       "      <td>5</td>\n",
       "      <td>16</td>\n",
       "      <td>25</td>\n",
       "      <td>16</td>\n",
       "      <td>54</td>\n",
       "      <td>79</td>\n",
       "      <td>32</td>\n",
       "    </tr>\n",
       "    <tr>\n",
       "      <th>...</th>\n",
       "      <td>...</td>\n",
       "      <td>...</td>\n",
       "      <td>...</td>\n",
       "      <td>...</td>\n",
       "      <td>...</td>\n",
       "      <td>...</td>\n",
       "      <td>...</td>\n",
       "    </tr>\n",
       "    <tr>\n",
       "      <th>69</th>\n",
       "      <td>70</td>\n",
       "      <td>5</td>\n",
       "      <td>4</td>\n",
       "      <td>2</td>\n",
       "      <td>2</td>\n",
       "      <td>6</td>\n",
       "      <td>7</td>\n",
       "    </tr>\n",
       "    <tr>\n",
       "      <th>71</th>\n",
       "      <td>72</td>\n",
       "      <td>16</td>\n",
       "      <td>22</td>\n",
       "      <td>14</td>\n",
       "      <td>52</td>\n",
       "      <td>74</td>\n",
       "      <td>30</td>\n",
       "    </tr>\n",
       "    <tr>\n",
       "      <th>72</th>\n",
       "      <td>73</td>\n",
       "      <td>12</td>\n",
       "      <td>15</td>\n",
       "      <td>10</td>\n",
       "      <td>28</td>\n",
       "      <td>43</td>\n",
       "      <td>22</td>\n",
       "    </tr>\n",
       "    <tr>\n",
       "      <th>73</th>\n",
       "      <td>74</td>\n",
       "      <td>9</td>\n",
       "      <td>14</td>\n",
       "      <td>9</td>\n",
       "      <td>36</td>\n",
       "      <td>50</td>\n",
       "      <td>18</td>\n",
       "    </tr>\n",
       "    <tr>\n",
       "      <th>74</th>\n",
       "      <td>75</td>\n",
       "      <td>11</td>\n",
       "      <td>16</td>\n",
       "      <td>11</td>\n",
       "      <td>38</td>\n",
       "      <td>54</td>\n",
       "      <td>22</td>\n",
       "    </tr>\n",
       "  </tbody>\n",
       "</table>\n",
       "<p>71 rows × 7 columns</p>\n",
       "</div>"
      ],
      "text/plain": [
       "    Roll No  Unit Test-I  Insemester  Unit Test-II  Endsemester  Total  \\\n",
       "0         1           12          19            13           40     59   \n",
       "1         2           19          25            15           58     83   \n",
       "2         3           10          16            11           39     55   \n",
       "3         4           15          24            17           62     86   \n",
       "4         5           16          25            16           54     79   \n",
       "..      ...          ...         ...           ...          ...    ...   \n",
       "69       70            5           4             2            2      6   \n",
       "71       72           16          22            14           52     74   \n",
       "72       73           12          15            10           28     43   \n",
       "73       74            9          14             9           36     50   \n",
       "74       75           11          16            11           38     54   \n",
       "\n",
       "    Unit Test Total  \n",
       "0                25  \n",
       "1                34  \n",
       "2                21  \n",
       "3                32  \n",
       "4                32  \n",
       "..              ...  \n",
       "69                7  \n",
       "71               30  \n",
       "72               22  \n",
       "73               18  \n",
       "74               22  \n",
       "\n",
       "[71 rows x 7 columns]"
      ]
     },
     "execution_count": 19,
     "metadata": {},
     "output_type": "execute_result"
    }
   ],
   "source": [
    "# Unit Test Total\n",
    "df['Unit Test Total'] = df['Unit Test-I']+df['Unit Test-II']\n",
    "df"
   ]
  },
  {
   "cell_type": "markdown",
   "id": "344f3f34",
   "metadata": {
    "id": "344f3f34"
   },
   "source": [
    "## Skewness"
   ]
  },
  {
   "cell_type": "code",
   "execution_count": 20,
   "id": "ee50f7ba",
   "metadata": {
    "colab": {
     "base_uri": "https://localhost:8080/",
     "height": 623
    },
    "executionInfo": {
     "elapsed": 636,
     "status": "ok",
     "timestamp": 1706080759192,
     "user": {
      "displayName": "HARSHAL TAK",
      "userId": "01592715296350863863"
     },
     "user_tz": -330
    },
    "id": "ee50f7ba",
    "outputId": "03ac9ad5-d635-4067-d929-0e0e4d4bba52"
   },
   "outputs": [
    {
     "name": "stderr",
     "output_type": "stream",
     "text": [
      "C:\\Users\\Admin\\AppData\\Local\\Temp\\ipykernel_13204\\1281525148.py:2: UserWarning: \n",
      "\n",
      "`distplot` is a deprecated function and will be removed in seaborn v0.14.0.\n",
      "\n",
      "Please adapt your code to use either `displot` (a figure-level function with\n",
      "similar flexibility) or `histplot` (an axes-level function for histograms).\n",
      "\n",
      "For a guide to updating your code to use the new functions, please see\n",
      "https://gist.github.com/mwaskom/de44147ed2974457ad6372750bbe5751\n",
      "\n",
      "  sns.distplot(df['Total'])\n"
     ]
    },
    {
     "data": {
      "image/png": "[encoded data removed]",
      "text/plain": [
       "<Figure size 640x480 with 1 Axes>"
      ]
     },
     "metadata": {},
     "output_type": "display_data"
    }
   ],
   "source": [
    "# Visually look at the skewness in the graph\n",
    "sns.distplot(df['Total'])\n",
    "plt.show()"
   ]
  },
  {
   "cell_type": "code",
   "execution_count": 21,
   "id": "3694a588",
   "metadata": {
    "colab": {
     "base_uri": "https://localhost:8080/"
    },
    "executionInfo": {
     "elapsed": 5,
     "status": "ok",
     "timestamp": 1706080838369,
     "user": {
      "displayName": "HARSHAL TAK",
      "userId": "01592715296350863863"
     },
     "user_tz": -330
    },
    "id": "3694a588",
    "outputId": "f3c482ab-d963-4e0b-cd6b-8033c8be485b"
   },
   "outputs": [
    {
     "name": "stdout",
     "output_type": "stream",
     "text": [
      "Original Skewness:  -0.0590994838948607\n"
     ]
    }
   ],
   "source": [
    "# Skewness measure indicates assymetric behaviour\n",
    "# Skewness = 0: Then normally distributed.\n",
    "# Skewness > 0: Then more weight in the left tail of the distribution.\n",
    "# Skewness < 0: Then more weight in the right tail of the distribution.\n",
    "original_skewness = stats.skew(df['Total'],bias=True)\n",
    "print(\"Original Skewness: \",original_skewness)"
   ]
  },
  {
   "cell_type": "code",
   "execution_count": 22,
   "id": "SqqcMcAGV_io",
   "metadata": {
    "colab": {
     "base_uri": "https://localhost:8080/"
    },
    "executionInfo": {
     "elapsed": 386,
     "status": "ok",
     "timestamp": 1706081070961,
     "user": {
      "displayName": "HARSHAL TAK",
      "userId": "01592715296350863863"
     },
     "user_tz": -330
    },
    "id": "SqqcMcAGV_io",
    "outputId": "ce11fe55-4c84-4f41-a77b-81e41af22827"
   },
   "outputs": [
    {
     "name": "stdout",
     "output_type": "stream",
     "text": [
      "Transformed Skewness:  -0.6061132643004595\n"
     ]
    }
   ],
   "source": [
    "# Apply sqrt transformation\n",
    "transformed_data = np.sqrt(df['Total'])\n",
    "\n",
    "# Calculate skewness after transformation\n",
    "transformed_skewness = stats.skew(transformed_data)\n",
    "print(\"Transformed Skewness: \",transformed_skewness)"
   ]
  },
  {
   "cell_type": "code",
   "execution_count": 23,
   "id": "43UAfT_hXLWi",
   "metadata": {
    "colab": {
     "base_uri": "https://localhost:8080/"
    },
    "executionInfo": {
     "elapsed": 639,
     "status": "ok",
     "timestamp": 1706081369229,
     "user": {
      "displayName": "HARSHAL TAK",
      "userId": "01592715296350863863"
     },
     "user_tz": -330
    },
    "id": "43UAfT_hXLWi",
    "outputId": "1d5597e9-3bed-4b6b-cff7-e956006a9148"
   },
   "outputs": [
    {
     "name": "stdout",
     "output_type": "stream",
     "text": [
      "-0.0590994838948607\n"
     ]
    }
   ],
   "source": [
    "# Applying box-cox transformation\n",
    "total = df['Total']\n",
    "skewness_before = stats.skew(total)\n",
    "print(skewness_before)"
   ]
  },
  {
   "cell_type": "code",
   "execution_count": 24,
   "id": "-0vx72-KX8y4",
   "metadata": {
    "id": "-0vx72-KX8y4"
   },
   "outputs": [],
   "source": [
    "transformed_data,lambda_value = stats.boxcox(total)"
   ]
  },
  {
   "cell_type": "code",
   "execution_count": 25,
   "id": "GcMYZZazYLzI",
   "metadata": {
    "colab": {
     "base_uri": "https://localhost:8080/"
    },
    "executionInfo": {
     "elapsed": 2,
     "status": "ok",
     "timestamp": 1706081517011,
     "user": {
      "displayName": "HARSHAL TAK",
      "userId": "01592715296350863863"
     },
     "user_tz": -330
    },
    "id": "GcMYZZazYLzI",
    "outputId": "323fff82-9571-4381-a6cc-5525c244f107"
   },
   "outputs": [
    {
     "name": "stdout",
     "output_type": "stream",
     "text": [
      "-0.10372941930239445\n"
     ]
    }
   ],
   "source": [
    "skewness_after = stats.skew(transformed_data)\n",
    "print(skewness_after)"
   ]
  },
  {
   "cell_type": "code",
   "execution_count": 26,
   "id": "4hN5iwhFYoPo",
   "metadata": {
    "colab": {
     "base_uri": "https://localhost:8080/",
     "height": 487
    },
    "executionInfo": {
     "elapsed": 1564,
     "status": "ok",
     "timestamp": 1706081758206,
     "user": {
      "displayName": "HARSHAL TAK",
      "userId": "01592715296350863863"
     },
     "user_tz": -330
    },
    "id": "4hN5iwhFYoPo",
    "outputId": "bdb5ba29-f94a-40b0-a931-50fb357f6928"
   },
   "outputs": [
    {
     "data": {
      "image/png": "[encoded data removed]",
      "text/plain": [
       "<Figure size 1200x500 with 1 Axes>"
      ]
     },
     "metadata": {},
     "output_type": "display_data"
    }
   ],
   "source": [
    "# Plotting original and normal distribution\n",
    "plt.figure(figsize=(12,5))\n",
    "sns.histplot(total,kde=True)\n",
    "plt.title(f\"Skewness on Total before tranformation: {skewness_before:.2f}\")\n",
    "plt.show()"
   ]
  },
  {
   "cell_type": "code",
   "execution_count": 27,
   "id": "HKZqP7BmZv_A",
   "metadata": {
    "colab": {
     "base_uri": "https://localhost:8080/",
     "height": 468
    },
    "executionInfo": {
     "elapsed": 884,
     "status": "ok",
     "timestamp": 1706082017258,
     "user": {
      "displayName": "HARSHAL TAK",
      "userId": "01592715296350863863"
     },
     "user_tz": -330
    },
    "id": "HKZqP7BmZv_A",
    "outputId": "140f9ba9-dbef-4d87-e6d0-7ea32e0f4ba9"
   },
   "outputs": [
    {
     "data": {
      "image/png": "[encoded data removed]",
      "text/plain": [
       "<Figure size 1200x500 with 1 Axes>"
      ]
     },
     "metadata": {},
     "output_type": "display_data"
    }
   ],
   "source": [
    "plt.figure(figsize=(12,5))\n",
    "sns.histplot(transformed_data,kde=True)\n",
    "plt.title(f\"Skewness on Total after tranformation: {skewness_after:.2f}\")\n",
    "plt.show()"
   ]
  },
  {
   "cell_type": "markdown",
   "id": "ab59a6fe",
   "metadata": {
    "id": "ab59a6fe"
   },
   "source": [
    "## Normalizing the data"
   ]
  },
  {
   "cell_type": "code",
   "execution_count": 28,
   "id": "7e2a158a",
   "metadata": {
    "id": "7e2a158a",
    "outputId": "65ad2895-965a-47d2-b358-49cac5426cf9"
   },
   "outputs": [
    {
     "data": {
      "text/html": [
       "<div>\n",
       "<style scoped>\n",
       "    .dataframe tbody tr th:only-of-type {\n",
       "        vertical-align: middle;\n",
       "    }\n",
       "\n",
       "    .dataframe tbody tr th {\n",
       "        vertical-align: top;\n",
       "    }\n",
       "\n",
       "    .dataframe thead th {\n",
       "        text-align: right;\n",
       "    }\n",
       "</style>\n",
       "<table border=\"1\" class=\"dataframe\">\n",
       "  <thead>\n",
       "    <tr style=\"text-align: right;\">\n",
       "      <th></th>\n",
       "      <th>total</th>\n",
       "      <th>UT total</th>\n",
       "    </tr>\n",
       "  </thead>\n",
       "  <tbody>\n",
       "    <tr>\n",
       "      <th>0</th>\n",
       "      <td>0.920752</td>\n",
       "      <td>0.390149</td>\n",
       "    </tr>\n",
       "    <tr>\n",
       "      <th>1</th>\n",
       "      <td>0.925369</td>\n",
       "      <td>0.379067</td>\n",
       "    </tr>\n",
       "    <tr>\n",
       "      <th>2</th>\n",
       "      <td>0.934218</td>\n",
       "      <td>0.356702</td>\n",
       "    </tr>\n",
       "    <tr>\n",
       "      <th>3</th>\n",
       "      <td>0.937222</td>\n",
       "      <td>0.348734</td>\n",
       "    </tr>\n",
       "    <tr>\n",
       "      <th>4</th>\n",
       "      <td>0.926850</td>\n",
       "      <td>0.375433</td>\n",
       "    </tr>\n",
       "    <tr>\n",
       "      <th>5</th>\n",
       "      <td>0.944497</td>\n",
       "      <td>0.328521</td>\n",
       "    </tr>\n",
       "    <tr>\n",
       "      <th>6</th>\n",
       "      <td>0.912270</td>\n",
       "      <td>0.409590</td>\n",
       "    </tr>\n",
       "    <tr>\n",
       "      <th>7</th>\n",
       "      <td>0.919145</td>\n",
       "      <td>0.393919</td>\n",
       "    </tr>\n",
       "    <tr>\n",
       "      <th>8</th>\n",
       "      <td>0.929203</td>\n",
       "      <td>0.369569</td>\n",
       "    </tr>\n",
       "    <tr>\n",
       "      <th>9</th>\n",
       "      <td>0.927739</td>\n",
       "      <td>0.373229</td>\n",
       "    </tr>\n",
       "  </tbody>\n",
       "</table>\n",
       "</div>"
      ],
      "text/plain": [
       "      total  UT total\n",
       "0  0.920752  0.390149\n",
       "1  0.925369  0.379067\n",
       "2  0.934218  0.356702\n",
       "3  0.937222  0.348734\n",
       "4  0.926850  0.375433\n",
       "5  0.944497  0.328521\n",
       "6  0.912270  0.409590\n",
       "7  0.919145  0.393919\n",
       "8  0.929203  0.369569\n",
       "9  0.927739  0.373229"
      ]
     },
     "execution_count": 28,
     "metadata": {},
     "output_type": "execute_result"
    }
   ],
   "source": [
    "# Scaling Total and UT Total values to comparable values\n",
    "scaler = Normalizer()\n",
    "columns = pd.DataFrame(data=df,columns=['Total','Unit Test Total'])\n",
    "scaled_data = scaler.fit_transform(columns)\n",
    "scaled_df = pd.DataFrame(scaled_data,columns=['total','UT total'])\n",
    "scaled_df.head(10)"
   ]
  },
  {
   "cell_type": "code",
   "execution_count": 31,
   "id": "a7f53b9b",
   "metadata": {},
   "outputs": [
    {
     "name": "stdout",
     "output_type": "stream",
     "text": [
      "      total  UT total\n",
      "0  0.061606  0.104354\n",
      "1  1.166627  1.197511\n",
      "2 -0.122564 -0.381493\n",
      "3  1.304755  0.954587\n",
      "4  0.982457  0.954587\n",
      "5 -1.595926 -1.960496\n",
      "6 -0.398819 -0.260031\n",
      "7  1.212670  1.440434\n",
      "8  1.396840  1.318972\n",
      "9  1.350798  1.318972\n"
     ]
    }
   ],
   "source": [
    "'''scaler = StandardScaler()\n",
    "columns = df[['Total', 'Unit Test Total']]\n",
    "scaled_data = scaler.fit_transform(columns)\n",
    "scaled_df = pd.DataFrame(scaled_data, columns=['total', 'UT total'])\n",
    "print(scaled_df.head(10))"
   ]
  },
  {
   "cell_type": "code",
   "execution_count": 33,
   "id": "9c0bd79f",
   "metadata": {
    "id": "9c0bd79f",
    "outputId": "3417da35-7090-4c39-8ef6-2bbeaea3d062"
   },
   "outputs": [
    {
     "data": {
      "image/png": "[encoded data removed]",
      "text/plain": [
       "<Figure size 640x480 with 1 Axes>"
      ]
     },
     "metadata": {},
     "output_type": "display_data"
    }
   ],
   "source": [
    "sns.scatterplot(x='total',y='UT total',data=scaled_df)\n",
    "plt.show()"
   ]
  },
  {
   "cell_type": "markdown",
   "id": "bdd2df56",
   "metadata": {},
   "source": [
    "-----   Conclusion- Strong positive correlation or negative correlation or no correlation\n",
    "\n",
    "here it is positive"
   ]
  },
  {
   "cell_type": "code",
   "execution_count": 34,
   "id": "a6b42790",
   "metadata": {
    "id": "a6b42790",
    "outputId": "630d0f35-6008-49ed-f82e-259b385ac838"
   },
   "outputs": [
    {
     "name": "stderr",
     "output_type": "stream",
     "text": [
      "C:\\Users\\Admin\\AppData\\Local\\Temp\\ipykernel_13204\\1728733903.py:1: UserWarning: \n",
      "\n",
      "`distplot` is a deprecated function and will be removed in seaborn v0.14.0.\n",
      "\n",
      "Please adapt your code to use either `displot` (a figure-level function with\n",
      "similar flexibility) or `histplot` (an axes-level function for histograms).\n",
      "\n",
      "For a guide to updating your code to use the new functions, please see\n",
      "https://gist.github.com/mwaskom/de44147ed2974457ad6372750bbe5751\n",
      "\n",
      "  sns.distplot(scaled_df['total'])\n"
     ]
    },
    {
     "data": {
      "image/png": "[encoded data removed]",
      "text/plain": [
       "<Figure size 640x480 with 1 Axes>"
      ]
     },
     "metadata": {},
     "output_type": "display_data"
    }
   ],
   "source": [
    "sns.distplot(scaled_df['total'])\n",
    "plt.show()"
   ]
  },
  {
   "cell_type": "code",
   "execution_count": 35,
   "id": "92514f79",
   "metadata": {
    "id": "92514f79",
    "outputId": "5366a8c6-5ec6-4b4f-b7fd-dd1ba90deb9e"
   },
   "outputs": [
    {
     "name": "stdout",
     "output_type": "stream",
     "text": [
      "-0.05909948389486116\n"
     ]
    }
   ],
   "source": [
    "print(stats.skew(scaled_df['total'],bias=True))"
   ]
  },
  {
   "cell_type": "code",
   "execution_count": 38,
   "id": "229838b7",
   "metadata": {
    "id": "229838b7",
    "outputId": "bbe1afcb-ba2c-4279-c8da-e0bd0f2b4844"
   },
   "outputs": [
    {
     "data": {
      "text/plain": [
       "0.44352253619780657"
      ]
     },
     "execution_count": 38,
     "metadata": {},
     "output_type": "execute_result"
    }
   ],
   "source": [
    "k2,p = stats.normaltest(df['Total'])\n",
    "p"
   ]
  },
  {
   "cell_type": "markdown",
   "id": "0e3afca7",
   "metadata": {},
   "source": [
    "Conclusion - 1) Since p is less than α (0.001 < 0.05), we reject the null hypothesis that the data follows a normal distribution. Therefore, we conclude that the data does not follow a normal distribution at the 0.05 significance level.\n",
    "-------------------------------------------------------------- OR ---------------------------------------------------------------------------------------\n",
    "2) Since p is greater than α (0.4435 > 0.05), we fail to reject the null hypothesis. Therefore, we do not have sufficient evidence to conclude that the data significantly deviates from a normal distribution at the 0.05 significance level."
   ]
  },
  {
   "cell_type": "code",
   "execution_count": null,
   "id": "35903468",
   "metadata": {
    "id": "35903468"
   },
   "outputs": [],
   "source": []
  }
 ],
 "metadata": {
  "colab": {
   "provenance": []
  },
  "kernelspec": {
   "display_name": "Python 3 (ipykernel)",
   "language": "python",
   "name": "python3"
  },
  "language_info": {
   "codemirror_mode": {
    "name": "ipython",
    "version": 3
   },
   "file_extension": ".py",
   "mimetype": "text/x-python",
   "name": "python",
   "nbconvert_exporter": "python",
   "pygments_lexer": "ipython3",
   "version": "3.12.1"
  }
 },
 "nbformat": 4,
 "nbformat_minor": 5
}
